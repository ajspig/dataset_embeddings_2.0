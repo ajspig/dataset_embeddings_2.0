{
 "cells": [
  {
   "cell_type": "code",
   "execution_count": 1,
   "metadata": {},
   "outputs": [],
   "source": [
    "import numpy as np\n",
    "import pandas as pd\n",
    "import glob\n",
    "import os\n",
    "import re\n",
    "from tqdm import tqdm\n",
    "import pdb\n",
    "from time import sleep"
   ]
  },
  {
   "cell_type": "code",
   "execution_count": 2,
   "metadata": {},
   "outputs": [
    {
     "name": "stderr",
     "output_type": "stream",
     "text": [
      "landmarking: 100%|██████████| 466/466 [00:01<00:00, 263.54it/s]\n",
      "general: 100%|██████████| 466/466 [00:01<00:00, 430.07it/s]\n",
      "statistical: 100%|██████████| 466/466 [00:01<00:00, 368.68it/s]\n",
      "model-based: 100%|██████████| 466/466 [00:01<00:00, 376.74it/s]\n",
      "info-theory: 100%|██████████| 466/466 [00:00<00:00, 466.29it/s]\n",
      "relative: 100%|██████████| 466/466 [00:00<00:00, 522.95it/s]\n",
      "clustering: 100%|██████████| 466/466 [00:00<00:00, 618.66it/s]\n",
      "complexity: 100%|██████████| 466/466 [00:01<00:00, 350.21it/s]\n",
      "itemset: 100%|██████████| 466/466 [00:01<00:00, 459.43it/s]\n",
      "concept: 100%|██████████| 466/466 [00:00<00:00, 1282.72it/s]\n",
      "all: 100%|██████████| 466/466 [00:01<00:00, 276.07it/s]\n",
      "default: 100%|██████████| 466/466 [00:01<00:00, 352.85it/s]\n"
     ]
    }
   ],
   "source": [
    "datasets_path = \"/users/guest/j/jhiggin6/Documents/Thesis/pymfe/datasets_pymfe\"\n",
    "metadataset_path = \"/users/guest/j/jhiggin6/Documents/Thesis/meta_datasets\"\n",
    "\n",
    "if not os.path.isdir(metadataset_path):\n",
    "    os.mkdir(metadataset_path)\n",
    "\n",
    "groups = ['landmarking', 'general', 'statistical', 'model-based', 'info-theory', 'relative', \n",
    "          'clustering', 'complexity', 'itemset', 'concept', 'all', 'default']\n",
    "\n",
    "for group in groups:\n",
    "    vecs = {}\n",
    "    for i in tqdm(range(1, 467), desc=group):\n",
    "        if i != 147 or i != 157 or i != 387:\n",
    "            if os.path.isfile(f\"{datasets_path}/dataset_{i}/dataset_{i}_{group}_mfe.dat\"):\n",
    "                df = pd.read_csv(f\"{datasets_path}/dataset_{i}/dataset_{i}_{group}_mfe.dat\")\n",
    "                vecs[i] = df\n",
    "\n",
    "    frame = pd.concat(list(vecs.values()), axis=0, ignore_index=True)\n",
    "    frame = frame.set_index(pd.Series(list(vecs.keys())))\n",
    "    frame.index.name = 'dataset'\n",
    "    frame.to_csv(f\"{metadataset_path}/{group}_metadataset.csv\")"
   ]
  }
 ],
 "metadata": {
  "kernelspec": {
   "display_name": "Python 3.10.4 ('pymfe')",
   "language": "python",
   "name": "python3"
  },
  "language_info": {
   "codemirror_mode": {
    "name": "ipython",
    "version": 3
   },
   "file_extension": ".py",
   "mimetype": "text/x-python",
   "name": "python",
   "nbconvert_exporter": "python",
   "pygments_lexer": "ipython3",
   "version": "3.10.4"
  },
  "orig_nbformat": 4,
  "vscode": {
   "interpreter": {
    "hash": "3c6d70a495aa0c0f9c91ae36460a802b40499adeb83b6811b7fbe2d3fb8b1161"
   }
  }
 },
 "nbformat": 4,
 "nbformat_minor": 2
}
