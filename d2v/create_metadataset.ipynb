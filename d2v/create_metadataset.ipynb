{
 "cells": [
  {
   "cell_type": "code",
   "execution_count": null,
   "metadata": {},
   "outputs": [],
   "source": [
    "import pandas as pd\n",
    "import glob\n",
    "import os\n",
    "import re"
   ]
  },
  {
   "cell_type": "code",
   "execution_count": 163,
   "metadata": {},
   "outputs": [],
   "source": [
    "mapping = {}\n",
    "path = '/Users/joshhiggins/Documents/Grad_School/Thesis/dataset2vec-2/extracted'\n",
    "all_files = glob.glob(os.path.join(path, \"*.csv\"))\n",
    "\n",
    "li = []\n",
    "\n",
    "for filename in all_files:\n",
    "    dataset_num = int(re.search('.+dataset_(\\d+).csv', filename).group(1))\n",
    "    mapping[f'dataset_{dataset_num}'] = dataset_num\n",
    "    df = pd.read_csv(filename, header=0)\n",
    "    li.append(df)\n",
    "\n",
    "frame = pd.concat(li, axis=0, ignore_index=True)\n",
    "frame.rename(columns={'Unnamed: 0': 'dataset'},inplace=True)\n",
    "frame.set_index('dataset', inplace=True)\n",
    "frame.rename(index=mapping,inplace=True)\n",
    "frame.sort_index(inplace=True)\n",
    "frame.to_csv('/Users/joshhiggins/Documents/Grad_School/Thesis/dataset2vec-2/pretrained_meta_dataset.csv') # is this file missing?? Does it need to be recreated?"
   ]
  }
 ],
 "metadata": {
  "kernelspec": {
   "display_name": ".venv",
   "language": "python",
   "name": "python3"
  },
  "language_info": {
   "codemirror_mode": {
    "name": "ipython",
    "version": 3
   },
   "file_extension": ".py",
   "mimetype": "text/x-python",
   "name": "python",
   "nbconvert_exporter": "python",
   "pygments_lexer": "ipython3",
   "version": "3.10.9"
  },
  "orig_nbformat": 4,
  "vscode": {
   "interpreter": {
    "hash": "f29f612c85cd05db16310370e4cc48b5fc933947a19450e54e46983abbb4f0ee"
   }
  }
 },
 "nbformat": 4,
 "nbformat_minor": 2
}
