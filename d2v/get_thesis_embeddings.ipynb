{
 "cells": [
  {
   "cell_type": "code",
   "execution_count": 1,
   "metadata": {},
   "outputs": [],
   "source": [
    "import pandas as pd\n",
    "import os"
   ]
  },
  {
   "cell_type": "code",
   "execution_count": null,
   "metadata": {},
   "outputs": [],
   "source": [
    "os. chdir('/Users/joshhiggins/Documents/Grad_School/Thesis/dataset2vec-2')\n",
    "for i in range(339, 467):\n",
    "    if i == 147 or i == 157 or i == 387:\n",
    "        continue\n",
    "    os.system(f'python extract_meta_features.py --file dataset_{i}')"
   ]
  }
 ],
 "metadata": {
  "kernelspec": {
   "display_name": ".venv",
   "language": "python",
   "name": "python3"
  },
  "language_info": {
   "codemirror_mode": {
    "name": "ipython",
    "version": 3
   },
   "file_extension": ".py",
   "mimetype": "text/x-python",
   "name": "python",
   "nbconvert_exporter": "python",
   "pygments_lexer": "ipython3",
   "version": "3.10.9"
  },
  "orig_nbformat": 4,
  "vscode": {
   "interpreter": {
    "hash": "f29f612c85cd05db16310370e4cc48b5fc933947a19450e54e46983abbb4f0ee"
   }
  }
 },
 "nbformat": 4,
 "nbformat_minor": 2
}
