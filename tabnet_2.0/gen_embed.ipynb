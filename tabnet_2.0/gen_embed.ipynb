{
 "cells": [
  {
   "cell_type": "code",
   "execution_count": 28,
   "metadata": {},
   "outputs": [],
   "source": [
    "from pytorch_tabnet.tab_network import EmbeddingGenerator\n",
    "import torch\n",
    "import arff\n",
    "from scipy.io import arff\n",
    "import pandas as pd\n",
    "import numpy as np\n",
    "import os\n",
    "import re"
   ]
  },
  {
   "cell_type": "code",
   "execution_count": 29,
   "metadata": {},
   "outputs": [],
   "source": [
    "# Set random seed for reproducibility\n",
    "torch.manual_seed(0)\n",
    "np.random.seed(0)"
   ]
  },
  {
   "cell_type": "markdown",
   "metadata": {},
   "source": [
    "## Read arff file in "
   ]
  },
  {
   "cell_type": "code",
   "execution_count": 30,
   "metadata": {},
   "outputs": [],
   "source": [
    "file = 'data_436.arff'\n",
    "filename = os.path.join('datasets', file)"
   ]
  },
  {
   "cell_type": "code",
   "execution_count": 31,
   "metadata": {},
   "outputs": [],
   "source": [
    "# read in the ARFF file\n",
    "with open(filename, \"r\") as f:\n",
    "    lines = f.readlines()"
   ]
  },
  {
   "cell_type": "code",
   "execution_count": 32,
   "metadata": {},
   "outputs": [],
   "source": [
    "cat_index = []\n",
    "cat_dims = [] #will be the same size as cat_index, but the values will just be the indexes for the categorical variables at their index"
   ]
  },
  {
   "cell_type": "code",
   "execution_count": 33,
   "metadata": {},
   "outputs": [],
   "source": [
    "data, meta = arff.loadarff(filename)\n",
    "attr_names = meta.names()\n",
    "attr_types = meta.types()\n",
    "cat_index = []\n",
    "cat_dims = []\n",
    "\n",
    "for i in range(len(attr_types)):\n",
    "    if attr_types[i] == 'nominal':\n",
    "        cat_index.append(i)\n",
    "        num_cats = len(meta[attr_names[i]][1])\n",
    "        cat_dims.append(num_cats)\n"
   ]
  },
  {
   "cell_type": "code",
   "execution_count": 34,
   "metadata": {},
   "outputs": [],
   "source": [
    "# create a pandas dataframe from the ARFF file\n",
    "with open(filename, 'r') as f:\n",
    "    dataset = arff.loadarff(f)\n",
    "df = pd.DataFrame(dataset[0])"
   ]
  },
  {
   "cell_type": "code",
   "execution_count": 35,
   "metadata": {},
   "outputs": [
    {
     "data": {
      "text/html": [
       "<div>\n",
       "<style scoped>\n",
       "    .dataframe tbody tr th:only-of-type {\n",
       "        vertical-align: middle;\n",
       "    }\n",
       "\n",
       "    .dataframe tbody tr th {\n",
       "        vertical-align: top;\n",
       "    }\n",
       "\n",
       "    .dataframe thead th {\n",
       "        text-align: right;\n",
       "    }\n",
       "</style>\n",
       "<table border=\"1\" class=\"dataframe\">\n",
       "  <thead>\n",
       "    <tr style=\"text-align: right;\">\n",
       "      <th></th>\n",
       "      <th>Whether_of_not_the_TA_is_a_native_English_speaker</th>\n",
       "      <th>Course_instructor</th>\n",
       "      <th>Course</th>\n",
       "      <th>Summer_or_regular_semester</th>\n",
       "      <th>Class_size</th>\n",
       "      <th>binaryClass</th>\n",
       "    </tr>\n",
       "  </thead>\n",
       "  <tbody>\n",
       "    <tr>\n",
       "      <th>0</th>\n",
       "      <td>b'1'</td>\n",
       "      <td>23.0</td>\n",
       "      <td>3.0</td>\n",
       "      <td>b'1'</td>\n",
       "      <td>19.0</td>\n",
       "      <td>b'P'</td>\n",
       "    </tr>\n",
       "    <tr>\n",
       "      <th>1</th>\n",
       "      <td>b'2'</td>\n",
       "      <td>15.0</td>\n",
       "      <td>3.0</td>\n",
       "      <td>b'1'</td>\n",
       "      <td>17.0</td>\n",
       "      <td>b'P'</td>\n",
       "    </tr>\n",
       "    <tr>\n",
       "      <th>2</th>\n",
       "      <td>b'1'</td>\n",
       "      <td>23.0</td>\n",
       "      <td>3.0</td>\n",
       "      <td>b'2'</td>\n",
       "      <td>49.0</td>\n",
       "      <td>b'P'</td>\n",
       "    </tr>\n",
       "    <tr>\n",
       "      <th>3</th>\n",
       "      <td>b'1'</td>\n",
       "      <td>5.0</td>\n",
       "      <td>2.0</td>\n",
       "      <td>b'2'</td>\n",
       "      <td>33.0</td>\n",
       "      <td>b'P'</td>\n",
       "    </tr>\n",
       "    <tr>\n",
       "      <th>4</th>\n",
       "      <td>b'2'</td>\n",
       "      <td>7.0</td>\n",
       "      <td>11.0</td>\n",
       "      <td>b'2'</td>\n",
       "      <td>55.0</td>\n",
       "      <td>b'P'</td>\n",
       "    </tr>\n",
       "  </tbody>\n",
       "</table>\n",
       "</div>"
      ],
      "text/plain": [
       "  Whether_of_not_the_TA_is_a_native_English_speaker  Course_instructor   \n",
       "0                                              b'1'               23.0  \\\n",
       "1                                              b'2'               15.0   \n",
       "2                                              b'1'               23.0   \n",
       "3                                              b'1'                5.0   \n",
       "4                                              b'2'                7.0   \n",
       "\n",
       "   Course Summer_or_regular_semester  Class_size binaryClass  \n",
       "0     3.0                       b'1'        19.0        b'P'  \n",
       "1     3.0                       b'1'        17.0        b'P'  \n",
       "2     3.0                       b'2'        49.0        b'P'  \n",
       "3     2.0                       b'2'        33.0        b'P'  \n",
       "4    11.0                       b'2'        55.0        b'P'  "
      ]
     },
     "execution_count": 35,
     "metadata": {},
     "output_type": "execute_result"
    }
   ],
   "source": [
    "df.head() # I dont think this is a problem "
   ]
  },
  {
   "cell_type": "code",
   "execution_count": 36,
   "metadata": {},
   "outputs": [],
   "source": [
    "input_dim = df.shape"
   ]
  },
  {
   "attachments": {},
   "cell_type": "markdown",
   "metadata": {},
   "source": [
    "## create embeddings"
   ]
  },
  {
   "cell_type": "code",
   "execution_count": 37,
   "metadata": {},
   "outputs": [],
   "source": [
    "embedding_generator = EmbeddingGenerator(input_dim=input_dim[1], cat_dims=cat_dims, cat_idxs=cat_index, cat_emb_dim=3) # hard coded cat_emb_dim = 1 (for now)"
   ]
  },
  {
   "cell_type": "code",
   "execution_count": 38,
   "metadata": {},
   "outputs": [],
   "source": [
    "from sklearn.preprocessing import LabelEncoder\n",
    "\n",
    "# create a LabelEncoder object\n",
    "le = LabelEncoder()\n",
    "\n",
    "# apply LabelEncoder to each column that contains strings\n",
    "for col in df.select_dtypes(include=['object']):\n",
    "    df[col] = le.fit_transform(df[col])\n"
   ]
  },
  {
   "cell_type": "code",
   "execution_count": 39,
   "metadata": {},
   "outputs": [
    {
     "data": {
      "text/html": [
       "<div>\n",
       "<style scoped>\n",
       "    .dataframe tbody tr th:only-of-type {\n",
       "        vertical-align: middle;\n",
       "    }\n",
       "\n",
       "    .dataframe tbody tr th {\n",
       "        vertical-align: top;\n",
       "    }\n",
       "\n",
       "    .dataframe thead th {\n",
       "        text-align: right;\n",
       "    }\n",
       "</style>\n",
       "<table border=\"1\" class=\"dataframe\">\n",
       "  <thead>\n",
       "    <tr style=\"text-align: right;\">\n",
       "      <th></th>\n",
       "      <th>Whether_of_not_the_TA_is_a_native_English_speaker</th>\n",
       "      <th>Course_instructor</th>\n",
       "      <th>Course</th>\n",
       "      <th>Summer_or_regular_semester</th>\n",
       "      <th>Class_size</th>\n",
       "      <th>binaryClass</th>\n",
       "    </tr>\n",
       "  </thead>\n",
       "  <tbody>\n",
       "    <tr>\n",
       "      <th>0</th>\n",
       "      <td>0</td>\n",
       "      <td>23.0</td>\n",
       "      <td>3.0</td>\n",
       "      <td>0</td>\n",
       "      <td>19.0</td>\n",
       "      <td>1</td>\n",
       "    </tr>\n",
       "    <tr>\n",
       "      <th>1</th>\n",
       "      <td>1</td>\n",
       "      <td>15.0</td>\n",
       "      <td>3.0</td>\n",
       "      <td>0</td>\n",
       "      <td>17.0</td>\n",
       "      <td>1</td>\n",
       "    </tr>\n",
       "    <tr>\n",
       "      <th>2</th>\n",
       "      <td>0</td>\n",
       "      <td>23.0</td>\n",
       "      <td>3.0</td>\n",
       "      <td>1</td>\n",
       "      <td>49.0</td>\n",
       "      <td>1</td>\n",
       "    </tr>\n",
       "    <tr>\n",
       "      <th>3</th>\n",
       "      <td>0</td>\n",
       "      <td>5.0</td>\n",
       "      <td>2.0</td>\n",
       "      <td>1</td>\n",
       "      <td>33.0</td>\n",
       "      <td>1</td>\n",
       "    </tr>\n",
       "    <tr>\n",
       "      <th>4</th>\n",
       "      <td>1</td>\n",
       "      <td>7.0</td>\n",
       "      <td>11.0</td>\n",
       "      <td>1</td>\n",
       "      <td>55.0</td>\n",
       "      <td>1</td>\n",
       "    </tr>\n",
       "    <tr>\n",
       "      <th>...</th>\n",
       "      <td>...</td>\n",
       "      <td>...</td>\n",
       "      <td>...</td>\n",
       "      <td>...</td>\n",
       "      <td>...</td>\n",
       "      <td>...</td>\n",
       "    </tr>\n",
       "    <tr>\n",
       "      <th>146</th>\n",
       "      <td>1</td>\n",
       "      <td>3.0</td>\n",
       "      <td>2.0</td>\n",
       "      <td>1</td>\n",
       "      <td>26.0</td>\n",
       "      <td>0</td>\n",
       "    </tr>\n",
       "    <tr>\n",
       "      <th>147</th>\n",
       "      <td>1</td>\n",
       "      <td>10.0</td>\n",
       "      <td>3.0</td>\n",
       "      <td>1</td>\n",
       "      <td>12.0</td>\n",
       "      <td>0</td>\n",
       "    </tr>\n",
       "    <tr>\n",
       "      <th>148</th>\n",
       "      <td>0</td>\n",
       "      <td>18.0</td>\n",
       "      <td>7.0</td>\n",
       "      <td>1</td>\n",
       "      <td>48.0</td>\n",
       "      <td>0</td>\n",
       "    </tr>\n",
       "    <tr>\n",
       "      <th>149</th>\n",
       "      <td>1</td>\n",
       "      <td>22.0</td>\n",
       "      <td>1.0</td>\n",
       "      <td>1</td>\n",
       "      <td>51.0</td>\n",
       "      <td>0</td>\n",
       "    </tr>\n",
       "    <tr>\n",
       "      <th>150</th>\n",
       "      <td>1</td>\n",
       "      <td>2.0</td>\n",
       "      <td>10.0</td>\n",
       "      <td>1</td>\n",
       "      <td>27.0</td>\n",
       "      <td>0</td>\n",
       "    </tr>\n",
       "  </tbody>\n",
       "</table>\n",
       "<p>151 rows × 6 columns</p>\n",
       "</div>"
      ],
      "text/plain": [
       "     Whether_of_not_the_TA_is_a_native_English_speaker  Course_instructor   \n",
       "0                                                    0               23.0  \\\n",
       "1                                                    1               15.0   \n",
       "2                                                    0               23.0   \n",
       "3                                                    0                5.0   \n",
       "4                                                    1                7.0   \n",
       "..                                                 ...                ...   \n",
       "146                                                  1                3.0   \n",
       "147                                                  1               10.0   \n",
       "148                                                  0               18.0   \n",
       "149                                                  1               22.0   \n",
       "150                                                  1                2.0   \n",
       "\n",
       "     Course  Summer_or_regular_semester  Class_size  binaryClass  \n",
       "0       3.0                           0        19.0            1  \n",
       "1       3.0                           0        17.0            1  \n",
       "2       3.0                           1        49.0            1  \n",
       "3       2.0                           1        33.0            1  \n",
       "4      11.0                           1        55.0            1  \n",
       "..      ...                         ...         ...          ...  \n",
       "146     2.0                           1        26.0            0  \n",
       "147     3.0                           1        12.0            0  \n",
       "148     7.0                           1        48.0            0  \n",
       "149     1.0                           1        51.0            0  \n",
       "150    10.0                           1        27.0            0  \n",
       "\n",
       "[151 rows x 6 columns]"
      ]
     },
     "execution_count": 39,
     "metadata": {},
     "output_type": "execute_result"
    }
   ],
   "source": [
    "df"
   ]
  },
  {
   "cell_type": "code",
   "execution_count": 40,
   "metadata": {},
   "outputs": [],
   "source": [
    "# expects the data to be a PyTorch tensor not a pandas dataframe\n",
    "tensor_data = torch.tensor(df.values)"
   ]
  },
  {
   "cell_type": "code",
   "execution_count": 41,
   "metadata": {},
   "outputs": [],
   "source": [
    "\n",
    "# apply embeddings\n",
    "embeddings = embedding_generator(tensor_data)"
   ]
  },
  {
   "cell_type": "code",
   "execution_count": 42,
   "metadata": {},
   "outputs": [
    {
     "name": "stdout",
     "output_type": "stream",
     "text": [
      "(151, 12)\n",
      "(151, 12)\n",
      "torch.Size([151, 12])\n",
      "(151, 6)\n"
     ]
    }
   ],
   "source": [
    "t_np = embeddings.detach().numpy()\n",
    "df = pd.DataFrame(t_np)\n",
    "df.to_csv(os.path.join('embeddings', file.replace('.arff', '.csv')), index=False)\n",
    "\n",
    "# okay so this is huge\n",
    "print(df.shape)\n",
    "print(t_np.shape)\n",
    "print(embeddings.shape)\n",
    "print(input_dim)"
   ]
  },
  {
   "cell_type": "code",
   "execution_count": 43,
   "metadata": {},
   "outputs": [
    {
     "name": "stdout",
     "output_type": "stream",
     "text": [
      "tensor([ 1.5410, -0.2934, -2.1788, 23.0000,  3.0000,  0.4033,  0.8380, -0.7193,\n",
      "        19.0000,  0.1227, -0.5663,  0.3731], grad_fn=<SelectBackward0>)\n"
     ]
    }
   ],
   "source": [
    "print(embeddings[0])"
   ]
  }
 ],
 "metadata": {
  "kernelspec": {
   "display_name": "Python 3.8.10 64-bit",
   "language": "python",
   "name": "python3"
  },
  "language_info": {
   "codemirror_mode": {
    "name": "ipython",
    "version": 3
   },
   "file_extension": ".py",
   "mimetype": "text/x-python",
   "name": "python",
   "nbconvert_exporter": "python",
   "pygments_lexer": "ipython3",
   "version": "3.8.10"
  },
  "orig_nbformat": 4,
  "vscode": {
   "interpreter": {
    "hash": "767d51c1340bd893661ea55ea3124f6de3c7a262a8b4abca0554b478b1e2ff90"
   }
  }
 },
 "nbformat": 4,
 "nbformat_minor": 2
}
