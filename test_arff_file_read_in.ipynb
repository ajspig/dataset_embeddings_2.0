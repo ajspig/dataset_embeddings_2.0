{
 "cells": [
  {
   "cell_type": "code",
   "execution_count": 3,
   "metadata": {},
   "outputs": [],
   "source": [
    "import numpy as np\n",
    "import pandas as pd\n",
    "from scipy.io.arff import loadarff\n",
    "from sklearn.preprocessing import OneHotEncoder"
   ]
  },
  {
   "cell_type": "code",
   "execution_count": 10,
   "metadata": {},
   "outputs": [],
   "source": [
    "# read in data_4.arff as a data+4.dat\n",
    "# how were we doing it before? \n",
    "\n",
    "raw_data = loadarff(f'datasets/data_428.arff')\n",
    "df = pd.DataFrame(raw_data[0])\n",
    "target = df.pop(df.iloc[:,-1].name)\n",
    "df = pd.get_dummies(df)"
   ]
  },
  {
   "cell_type": "code",
   "execution_count": null,
   "metadata": {},
   "outputs": [],
   "source": [
    "mapping = {a:i for i, a in enumerate(list(target.unique()))} # I think this might be the problem \n",
    "target = target.map(mapping)\n",
    "\n",
    "df.to_csv(f\"dataset_428_py.dat\", index=False, header=False)\n",
    "target.to_csv(f\"dataset_428_labels_py.dat\", index=False, header=False)"
   ]
  },
  {
   "cell_type": "code",
   "execution_count": 8,
   "metadata": {},
   "outputs": [],
   "source": [
    "# hwo do I do it in ML class \n",
    "data = loadarff('datasets/data_4.arff')\n",
    "df = pd.DataFrame(data[0])\n",
    "X = df.iloc[:,:-1].to_numpy()\n",
    "y = df.iloc[:,-1].to_numpy()\n",
    "y = y.reshape((y.shape[0],1))"
   ]
  }
 ],
 "metadata": {
  "kernelspec": {
   "display_name": ".venv",
   "language": "python",
   "name": "python3"
  },
  "language_info": {
   "codemirror_mode": {
    "name": "ipython",
    "version": 3
   },
   "file_extension": ".py",
   "mimetype": "text/x-python",
   "name": "python",
   "nbconvert_exporter": "python",
   "pygments_lexer": "ipython3",
   "version": "3.10.9"
  },
  "orig_nbformat": 4
 },
 "nbformat": 4,
 "nbformat_minor": 2
}
