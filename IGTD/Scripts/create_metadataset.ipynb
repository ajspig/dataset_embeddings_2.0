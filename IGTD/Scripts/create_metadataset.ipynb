{
 "cells": [
  {
   "cell_type": "code",
   "execution_count": null,
   "metadata": {},
   "outputs": [],
   "source": [
    "# read in all the IGTD/Results/data_2/Euclidean_Euclidean_abs/optimized_feature_ranking.png files \n",
    "# 1. convert to flattened 1d array\n",
    "# 2. add the array to the correct row in the datset (Since for some reason it doesnt read them in order.)\n",
    "# 3. save the dataset as a csv file"
   ]
  },
  {
   "cell_type": "code",
   "execution_count": 5,
   "metadata": {},
   "outputs": [],
   "source": [
    "import os\n",
    "import numpy as np\n",
    "import pandas as pd\n",
    "from PIL import Image"
   ]
  },
  {
   "cell_type": "code",
   "execution_count": 6,
   "metadata": {},
   "outputs": [],
   "source": [
    "df = pd.DataFrame()"
   ]
  },
  {
   "cell_type": "code",
   "execution_count": 7,
   "metadata": {},
   "outputs": [],
   "source": [
    "# change the directory to be in the Data folder\n",
    "os.chdir(os.path.dirname(os.path.abspath('/users/guest/a/as2273/research_spring/dataset_embeddings_2.0/IGTD/Results/')))"
   ]
  },
  {
   "cell_type": "code",
   "execution_count": 8,
   "metadata": {},
   "outputs": [
    {
     "name": "stdout",
     "output_type": "stream",
     "text": [
      "File /users/guest/a/as2273/research_spring/dataset_embeddings_2.0/IGTD/Results/data_147/Euclidean_Euclidean_abs/optimized_feature_ranking.png does not exist\n",
      "File /users/guest/a/as2273/research_spring/dataset_embeddings_2.0/IGTD/Results/data_157/Euclidean_Euclidean_abs/optimized_feature_ranking.png does not exist\n",
      "File /users/guest/a/as2273/research_spring/dataset_embeddings_2.0/IGTD/Results/data_387/Euclidean_Euclidean_abs/optimized_feature_ranking.png does not exist\n"
     ]
    }
   ],
   "source": [
    "li = []\n",
    "for i in range(1, 467):\n",
    "    folder_path = f\"/users/guest/a/as2273/research_spring/dataset_embeddings_2.0/IGTD/Results/data_{i}/Euclidean_Euclidean_abs/\"\n",
    "    file_path = folder_path + \"optimized_feature_ranking.png\"\n",
    "    # for some of them it might not exist, so try and catch \n",
    "    try:\n",
    "        img = Image.open(file_path)\n",
    "    except:\n",
    "        print(f\"File {file_path} does not exist\")\n",
    "        continue\n",
    "    pixel_data = np.array(img).flatten()\n",
    "    # append the dataset number to the begining of pizel_data\n",
    "    pixel_data = np.insert(pixel_data, 0, i)\n",
    "    li.append(pixel_data)"
   ]
  },
  {
   "cell_type": "code",
   "execution_count": 12,
   "metadata": {},
   "outputs": [],
   "source": [
    "df = pd.DataFrame(li)"
   ]
  },
  {
   "cell_type": "code",
   "execution_count": 24,
   "metadata": {},
   "outputs": [],
   "source": [
    "# save li to a csv file\n",
    "columns = [f'{i}' for i in range(0, len(df.columns)-1)]\n",
    "header = ['dataset'] + columns"
   ]
  },
  {
   "cell_type": "code",
   "execution_count": 25,
   "metadata": {},
   "outputs": [],
   "source": [
    "df.to_csv('IGTD.csv', index=False, header=header)"
   ]
  },
  {
   "attachments": {},
   "cell_type": "markdown",
   "metadata": {},
   "source": [
    "Double checking it is saving everything correctly by confirming the rows are different "
   ]
  },
  {
   "cell_type": "code",
   "execution_count": 51,
   "metadata": {},
   "outputs": [
    {
     "name": "stdout",
     "output_type": "stream",
     "text": [
      "The first and second rows are different.\n",
      "The number of different pixels is: 60276\n"
     ]
    }
   ],
   "source": [
    "df_no_folder = df.drop(columns=['folder_number'])\n",
    "\n",
    "# Convert the dataframe to a 2D numpy array\n",
    "arr = df_no_folder.to_numpy()\n",
    "\n",
    "# Compare the first and second rows of the array for equality\n",
    "row1 = arr[0]\n",
    "row2 = arr[1]\n",
    "equal = np.array_equal(row1[0], row2[0])\n",
    "\n",
    "# Count the number of different pixels\n",
    "diff = np.count_nonzero(row1[0] != row2[0])\n",
    "\n",
    "print(\"The first and second rows are\", \"identical.\" if equal else \"different.\")\n",
    "print(\"The number of different pixels is:\", diff)"
   ]
  }
 ],
 "metadata": {
  "kernelspec": {
   "display_name": "IGTD",
   "language": "python",
   "name": "python3"
  },
  "language_info": {
   "codemirror_mode": {
    "name": "ipython",
    "version": 3
   },
   "file_extension": ".py",
   "mimetype": "text/x-python",
   "name": "python",
   "nbconvert_exporter": "python",
   "pygments_lexer": "ipython3",
   "version": "3.10.9"
  },
  "orig_nbformat": 4
 },
 "nbformat": 4,
 "nbformat_minor": 2
}
