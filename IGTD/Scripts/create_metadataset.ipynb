{
 "cells": [
  {
   "cell_type": "code",
   "execution_count": null,
   "metadata": {},
   "outputs": [],
   "source": [
    "# read in all the IGTD/Results/data_2/Euclidean_Euclidean_abs/optimized_feature_ranking.png files \n",
    "# 1. convert to flattened 1d array\n",
    "# 2. add the array to the correct row in the datset (Since for some reason it doesnt read them in order.)\n",
    "# 3. save the dataset as a csv file"
   ]
  },
  {
   "cell_type": "code",
   "execution_count": 5,
   "metadata": {},
   "outputs": [],
   "source": [
    "import os\n",
    "import numpy as np\n",
    "import pandas as pd\n",
    "from PIL import Image"
   ]
  },
  {
   "cell_type": "code",
   "execution_count": 6,
   "metadata": {},
   "outputs": [],
   "source": [
    "df = pd.DataFrame()"
   ]
  },
  {
   "cell_type": "code",
   "execution_count": 7,
   "metadata": {},
   "outputs": [],
   "source": [
    "# change the directory to be in the Data folder\n",
    "os.chdir(os.path.dirname(os.path.abspath('/users/guest/a/as2273/research_spring/dataset_embeddings_2.0/IGTD/Results/')))"
   ]
  },
  {
   "cell_type": "code",
   "execution_count": 8,
   "metadata": {},
   "outputs": [
    {
     "name": "stdout",
     "output_type": "stream",
     "text": [
      "File /users/guest/a/as2273/research_spring/dataset_embeddings_2.0/IGTD/Results/data_147/Euclidean_Euclidean_abs/optimized_feature_ranking.png does not exist\n",
      "File /users/guest/a/as2273/research_spring/dataset_embeddings_2.0/IGTD/Results/data_157/Euclidean_Euclidean_abs/optimized_feature_ranking.png does not exist\n",
      "File /users/guest/a/as2273/research_spring/dataset_embeddings_2.0/IGTD/Results/data_387/Euclidean_Euclidean_abs/optimized_feature_ranking.png does not exist\n"
     ]
    }
   ],
   "source": [
    "li = []\n",
    "for i in range(1, 467):\n",
    "    #/users/guest/a/as2273/research_spring/dataset_embeddings_2.0/IGTD/Results/data_1/Euclidean_Euclidean_abs/optimized_feature_ranking.png\n",
    "    folder_path = f\"/users/guest/a/as2273/research_spring/dataset_embeddings_2.0/IGTD/Results/data_{i}/Euclidean_Euclidean_abs/\"\n",
    "    file_path = folder_path + \"optimized_feature_ranking.png\"\n",
    "    # for some of them it might not exist, so try and catch \n",
    "    try:\n",
    "        img = Image.open(file_path)\n",
    "    except:\n",
    "        print(f\"File {file_path} does not exist\")\n",
    "        continue\n",
    "    pixel_data = np.array(img).flatten()\n",
    "    # append the dataset number to the begining of pizel_data\n",
    "    pixel_data = np.insert(pixel_data, 0, i)\n",
    "    li.append(pixel_data)\n",
    "\n",
    "\n",
    "    \n",
    "    # pixel_data = np.array(img).flatten()\n",
    "    # # add teh dataset number to the begining of the row \n",
    "    # row = pd.DataFrame({'dataset': [i], 'pixel_data': [pixel_data]})\n",
    "    # df = df.append(row, ignore_index=True)"
   ]
  },
  {
   "cell_type": "code",
   "execution_count": 12,
   "metadata": {},
   "outputs": [],
   "source": [
    "df = pd.DataFrame(li)"
   ]
  },
  {
   "cell_type": "code",
   "execution_count": 24,
   "metadata": {},
   "outputs": [],
   "source": [
    "# save li to a csv file\n",
    "columns = [f'{i}' for i in range(0, len(df.columns)-1)]\n",
    "header = ['dataset'] + columns"
   ]
  },
  {
   "cell_type": "code",
   "execution_count": 25,
   "metadata": {},
   "outputs": [],
   "source": [
    "df.to_csv('IGTD.csv', index=False, header=header)"
   ]
  },
  {
   "cell_type": "code",
   "execution_count": 51,
   "metadata": {},
   "outputs": [
    {
     "name": "stdout",
     "output_type": "stream",
     "text": [
      "The first and second rows are different.\n",
      "The number of different pixels is: 60276\n"
     ]
    }
   ],
   "source": [
    "df_no_folder = df.drop(columns=['folder_number'])\n",
    "\n",
    "# Convert the dataframe to a 2D numpy array\n",
    "arr = df_no_folder.to_numpy()\n",
    "\n",
    "# Compare the first and second rows of the array for equality\n",
    "row1 = arr[0]\n",
    "row2 = arr[1]\n",
    "equal = np.array_equal(row1[0], row2[0])\n",
    "\n",
    "# Count the number of different pixels\n",
    "diff = np.count_nonzero(row1[0] != row2[0])\n",
    "\n",
    "print(\"The first and second rows are\", \"identical.\" if equal else \"different.\")\n",
    "print(\"The number of different pixels is:\", diff)"
   ]
  },
  {
   "cell_type": "code",
   "execution_count": 56,
   "metadata": {},
   "outputs": [
    {
     "data": {
      "text/plain": [
       "array([255, 255, 255, ..., 255, 255, 255], dtype=uint8)"
      ]
     },
     "execution_count": 56,
     "metadata": {},
     "output_type": "execute_result"
    }
   ],
   "source": [
    "row1[0]"
   ]
  },
  {
   "cell_type": "code",
   "execution_count": 31,
   "metadata": {},
   "outputs": [],
   "source": [
    "folder_path = f\"/users/guest/a/as2273/research_spring/dataset_embeddings_2.0/IGTD/Results/data_{1}/Euclidean_Euclidean_abs/\"\n",
    "file_path = folder_path + \"optimized_feature_ranking.png\"\n",
    "# for some of them it might not exist, so try and catch \n",
    "img = Image.open(file_path)\n",
    "pixel_data = np.array(img)\n",
    "# apply np.ravel() to flatten the array\n",
    "pixel_data = np.ravel(pixel_data)\n",
    "#save the pixel data as a csv file\n",
    "# cant save a 3d array as a csv file, so we will save it as a txt file\n",
    "np.savetxt(\"pixel_data_1.csv\", pixel_data)\n",
    "\n",
    "pixel_flat = np.array(img).flatten()\n",
    "#save the pixel data as a csv file\n",
    "np.savetxt(\"pixel_flat_1.csv\", pixel_flat)"
   ]
  },
  {
   "cell_type": "code",
   "execution_count": 32,
   "metadata": {},
   "outputs": [],
   "source": [
    "folder_path = f\"/users/guest/a/as2273/research_spring/dataset_embeddings_2.0/IGTD/Results/data_{1}/Euclidean_Euclidean_abs/\"\n",
    "file_path = folder_path + \"optimized_feature_ranking.png\"\n",
    "# for some of them it might not exist, so try and catch \n",
    "img = Image.open(file_path)\n",
    "pixel_data = np.array(img)\n",
    "# apply np.ravel() to flatten the array\n",
    "pixel_data = np.ravel(pixel_data)\n",
    "#save the pixel data as a csv file\n",
    "# cant save a 3d array as a csv file, so we will save it as a txt file\n",
    "np.savetxt(\"pixel_data_2.csv\", pixel_data)\n",
    "\n",
    "pixel_flat = np.array(img).flatten()\n",
    "#save the pixel data as a csv file\n",
    "np.savetxt(\"pixel_flat_2.csv\", pixel_flat)"
   ]
  },
  {
   "cell_type": "code",
   "execution_count": 33,
   "metadata": {},
   "outputs": [],
   "source": [
    "img1 = Image.open(\"/users/guest/a/as2273/research_spring/dataset_embeddings_2.0/IGTD/Results/data_1/Euclidean_Euclidean_abs/optimized_feature_ranking.png\").convert('1')\n",
    "img2 = Image.open(\"/users/guest/a/as2273/research_spring/dataset_embeddings_2.0/IGTD/Results/data_2/Euclidean_Euclidean_abs/optimized_feature_ranking.png\").convert('1')\n",
    "\n",
    "# Convert the images to numpy arrays and flatten them\n",
    "arr1 = np.array(img1).astype(int).flatten()\n",
    "arr2 = np.array(img2).astype(int).flatten()"
   ]
  },
  {
   "cell_type": "code",
   "execution_count": 34,
   "metadata": {},
   "outputs": [
    {
     "data": {
      "text/plain": [
       "False"
      ]
     },
     "execution_count": 34,
     "metadata": {},
     "output_type": "execute_result"
    }
   ],
   "source": [
    "np.array_equal(arr1, arr2)"
   ]
  }
 ],
 "metadata": {
  "kernelspec": {
   "display_name": "IGTD",
   "language": "python",
   "name": "python3"
  },
  "language_info": {
   "codemirror_mode": {
    "name": "ipython",
    "version": 3
   },
   "file_extension": ".py",
   "mimetype": "text/x-python",
   "name": "python",
   "nbconvert_exporter": "python",
   "pygments_lexer": "ipython3",
   "version": "3.10.9"
  },
  "orig_nbformat": 4
 },
 "nbformat": 4,
 "nbformat_minor": 2
}
