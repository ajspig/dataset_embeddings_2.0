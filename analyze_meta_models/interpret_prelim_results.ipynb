{
 "cells": [
  {
   "attachments": {},
   "cell_type": "markdown",
   "metadata": {},
   "source": [
    "This file grabs the accuracies stored in csv file of choice and helps with interpretation."
   ]
  },
  {
   "cell_type": "code",
   "execution_count": 1,
   "metadata": {},
   "outputs": [],
   "source": [
    "import pandas as pd\n",
    "import numpy as np"
   ]
  },
  {
   "cell_type": "code",
   "execution_count": 2,
   "metadata": {},
   "outputs": [],
   "source": [
    "file_name = 'results_some_changes.csv' # now know as best_results.csv"
   ]
  },
  {
   "cell_type": "code",
   "execution_count": 3,
   "metadata": {},
   "outputs": [
    {
     "data": {
      "text/plain": [
       "<bound method NDFrame._add_numeric_operations.<locals>.max of                               RandomForest  LogisticRegression       SVC   \n",
       "Metadataset                                                                \n",
       "concept_metadataset.csv           0.555556            0.611111  0.555556  \\\n",
       "clustering_metadataset.csv        0.511628            0.558140  0.604651   \n",
       "all_metadataset.csv               0.775000            0.450000  0.575000   \n",
       "general_metadataset.csv           0.704545            0.590909  0.568182   \n",
       "model-based_metadataset.csv       0.525000            0.358974  0.625000   \n",
       "landmarking_metadataset.csv       0.581395            0.534884  0.534884   \n",
       "itemset_metadataset.csv           0.522727            0.522727  0.545455   \n",
       "complexity_metadataset.csv        0.725000            0.350000  0.575000   \n",
       "info-theory_metadataset.csv       0.545455            0.545455  0.568182   \n",
       "d2v_pretrained_metadaset.csv      0.522727            0.568182  0.545455   \n",
       "default_metadataset.csv           0.604651            0.372093  0.545455   \n",
       "statistical_metadataset.csv       0.522727            0.363636  0.545455   \n",
       "relative_metadataset.csv          0.604651            0.604651  0.604651   \n",
       "\n",
       "                              KNeighbors  GaussianNB  DecisionTree  AdaBoost   \n",
       "Metadataset                                                                    \n",
       "concept_metadataset.csv         0.555556    0.444444      0.444444  0.500000  \\\n",
       "clustering_metadataset.csv      0.441860    0.325581      0.441860  0.465116   \n",
       "all_metadataset.csv             0.400000    0.400000      0.475000  0.575000   \n",
       "general_metadataset.csv         0.454545    0.318182      0.590909  0.386364   \n",
       "model-based_metadataset.csv     0.435897    0.435897      0.512821  0.461538   \n",
       "landmarking_metadataset.csv     0.651163    0.511628      0.604651  0.488372   \n",
       "itemset_metadataset.csv         0.395349    0.522727      0.500000  0.418605   \n",
       "complexity_metadataset.csv      0.550000    0.275000      0.650000  0.650000   \n",
       "info-theory_metadataset.csv     0.348837    0.363636      0.454545  0.522727   \n",
       "d2v_pretrained_metadaset.csv    0.431818    0.295455      0.431818  0.386364   \n",
       "default_metadataset.csv         0.386364    0.372093      0.441860  0.697674   \n",
       "statistical_metadataset.csv     0.590909    0.340909      0.500000  0.522727   \n",
       "relative_metadataset.csv        0.409091    0.545455      0.441860  0.568182   \n",
       "\n",
       "                              GradientBoosting       MLP   Bagging   \n",
       "Metadataset                                                          \n",
       "concept_metadataset.csv               0.352941  0.500000  0.500000  \\\n",
       "clustering_metadataset.csv            0.627907  0.511628  0.511628   \n",
       "all_metadataset.csv                   0.425000  0.275000  0.650000   \n",
       "general_metadataset.csv               0.590909  0.545455  0.590909   \n",
       "model-based_metadataset.csv           0.525000  0.307692  0.461538   \n",
       "landmarking_metadataset.csv           0.674419  0.500000  0.581395   \n",
       "itemset_metadataset.csv               0.454545  0.545455  0.454545   \n",
       "complexity_metadataset.csv            0.600000  0.575000  0.675000   \n",
       "info-theory_metadataset.csv           0.386364  0.545455  0.522727   \n",
       "d2v_pretrained_metadaset.csv          0.477273  0.227273  0.386364   \n",
       "default_metadataset.csv               0.720930  0.227273  0.581395   \n",
       "statistical_metadataset.csv           0.613636  0.340909  0.500000   \n",
       "relative_metadataset.csv              0.511628  0.534884  0.441860   \n",
       "\n",
       "                              ExtraTrees    Voting  \n",
       "Metadataset                                         \n",
       "concept_metadataset.csv         0.444444  0.555556  \n",
       "clustering_metadataset.csv      0.651163  0.627907  \n",
       "all_metadataset.csv             0.725000  0.750000  \n",
       "general_metadataset.csv         0.568182  0.636364  \n",
       "model-based_metadataset.csv     0.487179  0.512821  \n",
       "landmarking_metadataset.csv     0.651163  0.604651  \n",
       "itemset_metadataset.csv         0.454545  0.545455  \n",
       "complexity_metadataset.csv      0.725000  0.775000  \n",
       "info-theory_metadataset.csv     0.590909  0.568182  \n",
       "d2v_pretrained_metadaset.csv    0.395349  0.613636  \n",
       "default_metadataset.csv         0.720930  0.674419  \n",
       "statistical_metadataset.csv     0.545455  0.590909  \n",
       "relative_metadataset.csv        0.581395  0.674419  >"
      ]
     },
     "execution_count": 3,
     "metadata": {},
     "output_type": "execute_result"
    }
   ],
   "source": [
    "res = pd.read_csv(file_name, index_col='Metadataset')\n",
    "# res.drop('Unnamed: 0', axis=1, inplace=True) #TODO: havent rerun the code in get_prelim_results.csv to get rid of this\n",
    "res.max"
   ]
  },
  {
   "cell_type": "code",
   "execution_count": 4,
   "metadata": {},
   "outputs": [
    {
     "data": {
      "text/plain": [
       "Metadataset\n",
       "concept_metadataset.csv         0.611111\n",
       "clustering_metadataset.csv      0.651163\n",
       "all_metadataset.csv             0.775000\n",
       "general_metadataset.csv         0.704545\n",
       "model-based_metadataset.csv     0.625000\n",
       "landmarking_metadataset.csv     0.674419\n",
       "itemset_metadataset.csv         0.545455\n",
       "complexity_metadataset.csv      0.775000\n",
       "info-theory_metadataset.csv     0.590909\n",
       "d2v_pretrained_metadaset.csv    0.613636\n",
       "default_metadataset.csv         0.720930\n",
       "statistical_metadataset.csv     0.613636\n",
       "relative_metadataset.csv        0.674419\n",
       "dtype: float64"
      ]
     },
     "execution_count": 4,
     "metadata": {},
     "output_type": "execute_result"
    }
   ],
   "source": [
    "# get the max probaility for each metadataset and the associated ml algorithm that gave the best accuracy\n",
    "max_name = res.idxmax(axis=1)\n",
    "# get the max probability for each metadataset\n",
    "max_prob = res.max(axis=1)\n",
    "max_prob"
   ]
  },
  {
   "cell_type": "code",
   "execution_count": 5,
   "metadata": {},
   "outputs": [
    {
     "data": {
      "text/plain": [
       "Metadataset\n",
       "concept_metadataset.csv         LogisticRegression\n",
       "clustering_metadataset.csv              ExtraTrees\n",
       "all_metadataset.csv                   RandomForest\n",
       "general_metadataset.csv               RandomForest\n",
       "model-based_metadataset.csv                    SVC\n",
       "landmarking_metadataset.csv       GradientBoosting\n",
       "itemset_metadataset.csv                        SVC\n",
       "complexity_metadataset.csv                  Voting\n",
       "info-theory_metadataset.csv             ExtraTrees\n",
       "d2v_pretrained_metadaset.csv                Voting\n",
       "default_metadataset.csv           GradientBoosting\n",
       "statistical_metadataset.csv       GradientBoosting\n",
       "relative_metadataset.csv                    Voting\n",
       "dtype: object"
      ]
     },
     "execution_count": 5,
     "metadata": {},
     "output_type": "execute_result"
    }
   ],
   "source": [
    "max_name.str.split('_').str[0]"
   ]
  },
  {
   "cell_type": "code",
   "execution_count": 6,
   "metadata": {},
   "outputs": [
    {
     "data": {
      "text/html": [
       "<div>\n",
       "<style scoped>\n",
       "    .dataframe tbody tr th:only-of-type {\n",
       "        vertical-align: middle;\n",
       "    }\n",
       "\n",
       "    .dataframe tbody tr th {\n",
       "        vertical-align: top;\n",
       "    }\n",
       "\n",
       "    .dataframe thead th {\n",
       "        text-align: right;\n",
       "    }\n",
       "</style>\n",
       "<table border=\"1\" class=\"dataframe\">\n",
       "  <thead>\n",
       "    <tr style=\"text-align: right;\">\n",
       "      <th></th>\n",
       "      <th>ML Algorithm</th>\n",
       "      <th>Max Probability</th>\n",
       "    </tr>\n",
       "    <tr>\n",
       "      <th>Metadataset</th>\n",
       "      <th></th>\n",
       "      <th></th>\n",
       "    </tr>\n",
       "  </thead>\n",
       "  <tbody>\n",
       "    <tr>\n",
       "      <th>pymfe_concept</th>\n",
       "      <td>LogisticRegression</td>\n",
       "      <td>0.611111</td>\n",
       "    </tr>\n",
       "    <tr>\n",
       "      <th>pymfe_clustering</th>\n",
       "      <td>ExtraTrees</td>\n",
       "      <td>0.651163</td>\n",
       "    </tr>\n",
       "    <tr>\n",
       "      <th>pymfe_all</th>\n",
       "      <td>RandomForest</td>\n",
       "      <td>0.775000</td>\n",
       "    </tr>\n",
       "    <tr>\n",
       "      <th>pymfe_general</th>\n",
       "      <td>RandomForest</td>\n",
       "      <td>0.704545</td>\n",
       "    </tr>\n",
       "    <tr>\n",
       "      <th>pymfe_model-based</th>\n",
       "      <td>SVC</td>\n",
       "      <td>0.625000</td>\n",
       "    </tr>\n",
       "    <tr>\n",
       "      <th>pymfe_landmarking</th>\n",
       "      <td>GradientBoosting</td>\n",
       "      <td>0.674419</td>\n",
       "    </tr>\n",
       "    <tr>\n",
       "      <th>pymfe_itemset</th>\n",
       "      <td>SVC</td>\n",
       "      <td>0.545455</td>\n",
       "    </tr>\n",
       "    <tr>\n",
       "      <th>pymfe_complexity</th>\n",
       "      <td>Voting</td>\n",
       "      <td>0.775000</td>\n",
       "    </tr>\n",
       "    <tr>\n",
       "      <th>pymfe_info-theory</th>\n",
       "      <td>ExtraTrees</td>\n",
       "      <td>0.590909</td>\n",
       "    </tr>\n",
       "    <tr>\n",
       "      <th>d2v</th>\n",
       "      <td>Voting</td>\n",
       "      <td>0.613636</td>\n",
       "    </tr>\n",
       "    <tr>\n",
       "      <th>pymfe_default</th>\n",
       "      <td>GradientBoosting</td>\n",
       "      <td>0.720930</td>\n",
       "    </tr>\n",
       "    <tr>\n",
       "      <th>pymfe_statistical</th>\n",
       "      <td>GradientBoosting</td>\n",
       "      <td>0.613636</td>\n",
       "    </tr>\n",
       "    <tr>\n",
       "      <th>pymfe_relative</th>\n",
       "      <td>Voting</td>\n",
       "      <td>0.674419</td>\n",
       "    </tr>\n",
       "  </tbody>\n",
       "</table>\n",
       "</div>"
      ],
      "text/plain": [
       "                         ML Algorithm  Max Probability\n",
       "Metadataset                                           \n",
       "pymfe_concept      LogisticRegression         0.611111\n",
       "pymfe_clustering           ExtraTrees         0.651163\n",
       "pymfe_all                RandomForest         0.775000\n",
       "pymfe_general            RandomForest         0.704545\n",
       "pymfe_model-based                 SVC         0.625000\n",
       "pymfe_landmarking    GradientBoosting         0.674419\n",
       "pymfe_itemset                     SVC         0.545455\n",
       "pymfe_complexity               Voting         0.775000\n",
       "pymfe_info-theory          ExtraTrees         0.590909\n",
       "d2v                            Voting         0.613636\n",
       "pymfe_default        GradientBoosting         0.720930\n",
       "pymfe_statistical    GradientBoosting         0.613636\n",
       "pymfe_relative                 Voting         0.674419"
      ]
     },
     "execution_count": 6,
     "metadata": {},
     "output_type": "execute_result"
    }
   ],
   "source": [
    "max_name = max_name.str.split('_').str[0]\n",
    "results = pd.DataFrame({'ML Algorithm': max_name, 'Max Probability': max_prob})\n",
    "# split index column names after the _\n",
    "results.index = results.index.str.split('_').str[0]\n",
    "# append pymfe to all row indexes except d2v\n",
    "results.index = results.index.map(lambda x: 'd2v' if x == 'd2v' else f'pymfe_{x}')\n",
    "results"
   ]
  },
  {
   "cell_type": "code",
   "execution_count": 7,
   "metadata": {},
   "outputs": [],
   "source": [
    "# just grab the rows for general, stastistical, info_theory and d2v\n",
    "small = results.loc[['pymfe_general', 'pymfe_statistical', 'pymfe_info-theory', 'd2v']]\n",
    "# drop the ML Algorithm column\n",
    "small.drop('ML Algorithm', axis=1, inplace=True)"
   ]
  },
  {
   "cell_type": "code",
   "execution_count": 8,
   "metadata": {},
   "outputs": [
    {
     "data": {
      "text/html": [
       "<div>\n",
       "<style scoped>\n",
       "    .dataframe tbody tr th:only-of-type {\n",
       "        vertical-align: middle;\n",
       "    }\n",
       "\n",
       "    .dataframe tbody tr th {\n",
       "        vertical-align: top;\n",
       "    }\n",
       "\n",
       "    .dataframe thead th {\n",
       "        text-align: right;\n",
       "    }\n",
       "</style>\n",
       "<table border=\"1\" class=\"dataframe\">\n",
       "  <thead>\n",
       "    <tr style=\"text-align: right;\">\n",
       "      <th></th>\n",
       "      <th>Max Probability</th>\n",
       "    </tr>\n",
       "    <tr>\n",
       "      <th>Metadataset</th>\n",
       "      <th></th>\n",
       "    </tr>\n",
       "  </thead>\n",
       "  <tbody>\n",
       "    <tr>\n",
       "      <th>pymfe_general</th>\n",
       "      <td>0.704545</td>\n",
       "    </tr>\n",
       "    <tr>\n",
       "      <th>pymfe_statistical</th>\n",
       "      <td>0.613636</td>\n",
       "    </tr>\n",
       "    <tr>\n",
       "      <th>pymfe_info-theory</th>\n",
       "      <td>0.590909</td>\n",
       "    </tr>\n",
       "    <tr>\n",
       "      <th>d2v</th>\n",
       "      <td>0.613636</td>\n",
       "    </tr>\n",
       "  </tbody>\n",
       "</table>\n",
       "</div>"
      ],
      "text/plain": [
       "                   Max Probability\n",
       "Metadataset                       \n",
       "pymfe_general             0.704545\n",
       "pymfe_statistical         0.613636\n",
       "pymfe_info-theory         0.590909\n",
       "d2v                       0.613636"
      ]
     },
     "execution_count": 8,
     "metadata": {},
     "output_type": "execute_result"
    }
   ],
   "source": [
    "small"
   ]
  },
  {
   "cell_type": "code",
   "execution_count": 9,
   "metadata": {},
   "outputs": [
    {
     "data": {
      "text/html": [
       "<div>\n",
       "<style scoped>\n",
       "    .dataframe tbody tr th:only-of-type {\n",
       "        vertical-align: middle;\n",
       "    }\n",
       "\n",
       "    .dataframe tbody tr th {\n",
       "        vertical-align: top;\n",
       "    }\n",
       "\n",
       "    .dataframe thead th {\n",
       "        text-align: right;\n",
       "    }\n",
       "</style>\n",
       "<table border=\"1\" class=\"dataframe\">\n",
       "  <thead>\n",
       "    <tr style=\"text-align: right;\">\n",
       "      <th></th>\n",
       "      <th>Metadataset</th>\n",
       "      <th>Max_Accuracy</th>\n",
       "    </tr>\n",
       "  </thead>\n",
       "  <tbody>\n",
       "    <tr>\n",
       "      <th>0</th>\n",
       "      <td>RandomForest</td>\n",
       "      <td>0.775000</td>\n",
       "    </tr>\n",
       "    <tr>\n",
       "      <th>1</th>\n",
       "      <td>Voting</td>\n",
       "      <td>0.775000</td>\n",
       "    </tr>\n",
       "    <tr>\n",
       "      <th>2</th>\n",
       "      <td>ExtraTrees</td>\n",
       "      <td>0.725000</td>\n",
       "    </tr>\n",
       "    <tr>\n",
       "      <th>3</th>\n",
       "      <td>GradientBoosting</td>\n",
       "      <td>0.720930</td>\n",
       "    </tr>\n",
       "    <tr>\n",
       "      <th>4</th>\n",
       "      <td>AdaBoost</td>\n",
       "      <td>0.697674</td>\n",
       "    </tr>\n",
       "    <tr>\n",
       "      <th>5</th>\n",
       "      <td>Bagging</td>\n",
       "      <td>0.675000</td>\n",
       "    </tr>\n",
       "    <tr>\n",
       "      <th>6</th>\n",
       "      <td>KNeighbors</td>\n",
       "      <td>0.651163</td>\n",
       "    </tr>\n",
       "    <tr>\n",
       "      <th>7</th>\n",
       "      <td>DecisionTree</td>\n",
       "      <td>0.650000</td>\n",
       "    </tr>\n",
       "    <tr>\n",
       "      <th>8</th>\n",
       "      <td>SVC</td>\n",
       "      <td>0.625000</td>\n",
       "    </tr>\n",
       "    <tr>\n",
       "      <th>9</th>\n",
       "      <td>LogisticRegression</td>\n",
       "      <td>0.611111</td>\n",
       "    </tr>\n",
       "    <tr>\n",
       "      <th>10</th>\n",
       "      <td>MLP</td>\n",
       "      <td>0.575000</td>\n",
       "    </tr>\n",
       "    <tr>\n",
       "      <th>11</th>\n",
       "      <td>GaussianNB</td>\n",
       "      <td>0.545455</td>\n",
       "    </tr>\n",
       "  </tbody>\n",
       "</table>\n",
       "</div>"
      ],
      "text/plain": [
       "           Metadataset  Max_Accuracy\n",
       "0         RandomForest      0.775000\n",
       "1               Voting      0.775000\n",
       "2           ExtraTrees      0.725000\n",
       "3     GradientBoosting      0.720930\n",
       "4             AdaBoost      0.697674\n",
       "5              Bagging      0.675000\n",
       "6           KNeighbors      0.651163\n",
       "7         DecisionTree      0.650000\n",
       "8                  SVC      0.625000\n",
       "9   LogisticRegression      0.611111\n",
       "10                 MLP      0.575000\n",
       "11          GaussianNB      0.545455"
      ]
     },
     "execution_count": 9,
     "metadata": {},
     "output_type": "execute_result"
    }
   ],
   "source": [
    "# calculate max of each row\n",
    "res_max = res.max().sort_values(ascending=False).to_frame()\n",
    "res_max = res_max.reset_index()\n",
    "res_max.columns = ['Metadataset', 'Max_Accuracy']\n",
    "res_max"
   ]
  },
  {
   "cell_type": "code",
   "execution_count": 10,
   "metadata": {},
   "outputs": [],
   "source": [
    "# general\n",
    "# info-thory \n",
    "# statistical \n",
    "# all of these didnt fail on any of the datasets so run it on these too\n",
    "# get the max probably for those three datasets and the algorihtm that performed best \n",
    "\n"
   ]
  }
 ],
 "metadata": {
  "kernelspec": {
   "display_name": "Python 3.8.10 64-bit",
   "language": "python",
   "name": "python3"
  },
  "language_info": {
   "codemirror_mode": {
    "name": "ipython",
    "version": 3
   },
   "file_extension": ".py",
   "mimetype": "text/x-python",
   "name": "python",
   "nbconvert_exporter": "python",
   "pygments_lexer": "ipython3",
   "version": "3.8.10"
  },
  "orig_nbformat": 4,
  "vscode": {
   "interpreter": {
    "hash": "767d51c1340bd893661ea55ea3124f6de3c7a262a8b4abca0554b478b1e2ff90"
   }
  }
 },
 "nbformat": 4,
 "nbformat_minor": 2
}
